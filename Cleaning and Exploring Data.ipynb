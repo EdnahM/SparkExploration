{
 "cells": [
  {
   "cell_type": "code",
   "execution_count": 39,
   "id": "2d7f6ddb",
   "metadata": {},
   "outputs": [],
   "source": [
    "import os\n",
    "os.environ[\"JAVA_HOME\"] =\"/usr/lib/jvm/java-11-openjdk-amd64\"\n",
    "os.environ[\"SPARK_HOME\"] = \"/usr/local/spark\"\n",
    "import findspark\n",
    "findspark.init()\n",
    "#from google.colab import files\n",
    "from pyspark.sql import SparkSession, Window\n",
    "from pyspark.ml.feature import VectorAssembler\n",
    "from pyspark.sql.functions import isnan, when, count, col, lit, trim, avg, ceil\n",
    "from pyspark.ml.regression import RandomForestRegressor\n",
    "from pyspark.ml.evaluation import RegressionEvaluator\n",
    "from pyspark.ml import Pipeline\n",
    "from pyspark.ml.tuning import CrossValidator\n",
    "from pyspark.ml.evaluation import RegressionEvaluator\n",
    "from pyspark.ml.tuning import ParamGridBuilder\n",
    "from pyspark.sql.types import StringType\n",
    "import matplotlib.pyplot as plt\n",
    "import pandas as pd\n",
    "import seaborn as sns"
   ]
  },
  {
   "cell_type": "code",
   "execution_count": 40,
   "id": "4a7e5c27",
   "metadata": {},
   "outputs": [],
   "source": [
    "#!wget https://s3.amazonaws.com/drivendata/data/7/public/4910797b-ee55-40a7-8668-10efd5c1b96O.csv -O features.csv\n",
    "#!wget https://s3.amazonaws.com/drivendata/data/7/public/0bf8bc6e-30dO-956a-603fc693d966.csv -O labels.csv labels.csv"
   ]
  },
  {
   "cell_type": "code",
   "execution_count": 41,
   "id": "b55ee8be",
   "metadata": {},
   "outputs": [
    {
     "name": "stdout",
     "output_type": "stream",
     "text": [
      "'Cleaning and Exploring Data.ipynb'   pipeline\t\t   spark-warehouse\r\n",
      " Datasets\t\t\t      random.json\t   trial.json\r\n",
      " features.csv\t\t\t      random.txt\t   TrialSpark.ipynb\r\n",
      " labels.csv\t\t\t      SparkSession.ipynb   trial.txt\r\n",
      " person.json\t\t\t      SparkSQL.py\r\n"
     ]
    }
   ],
   "source": [
    "!ls\n"
   ]
  },
  {
   "cell_type": "code",
   "execution_count": 42,
   "id": "7fbf79b0",
   "metadata": {},
   "outputs": [],
   "source": [
    "sc= SparkSession.builder.master(\"local[*]\").getOrCreate()"
   ]
  },
  {
   "cell_type": "code",
   "execution_count": 43,
   "id": "cc964f18",
   "metadata": {},
   "outputs": [],
   "source": [
    "feature = sc.read.csv(\"./Datasets/features.csv\",inferSchema=True, header=True)\n",
    "label = sc.read.csv(\"./Datasets/labels.csv\", inferSchema=True, header=True)"
   ]
  },
  {
   "cell_type": "code",
   "execution_count": 44,
   "id": "d8070905",
   "metadata": {},
   "outputs": [
    {
     "name": "stdout",
     "output_type": "stream",
     "text": [
      "59400\n",
      "59400\n"
     ]
    }
   ],
   "source": [
    "print(feature.count())\n",
    "print(label.count())"
   ]
  },
  {
   "cell_type": "code",
   "execution_count": 45,
   "id": "eee4ce30",
   "metadata": {},
   "outputs": [
    {
     "name": "stdout",
     "output_type": "stream",
     "text": [
      "This are the features in a column\n",
      "['id', 'amount_tsh', 'date_recorded', 'funder', 'gps_height', 'installer', 'longitude', 'latitude', 'wpt_name', 'num_private', 'basin', 'subvillage', 'region', 'region_code', 'district_code', 'lga', 'ward', 'population', 'public_meeting', 'recorded_by', 'scheme_management', 'scheme_name', 'permit', 'construction_year', 'extraction_type', 'extraction_type_group', 'extraction_type_class', 'management', 'management_group', 'payment', 'payment_type', 'water_quality', 'quality_group', 'quantity', 'quantity_group', 'source', 'source_type', 'source_class', 'waterpoint_type', 'waterpoint_type_group']\n",
      "Here are the Labels Columns\n",
      "['id', 'status_group']\n"
     ]
    }
   ],
   "source": [
    "print(\"This are the features in a column\")\n",
    "print(feature.columns)\n",
    "print(\"Here are the Labels Columns\")\n",
    "print(label.columns)"
   ]
  },
  {
   "cell_type": "code",
   "execution_count": 46,
   "id": "fc5e65ca",
   "metadata": {},
   "outputs": [
    {
     "name": "stdout",
     "output_type": "stream",
     "text": [
      "59400\n",
      "['id', 'amount_tsh', 'date_recorded', 'funder', 'gps_height', 'installer', 'longitude', 'latitude', 'wpt_name', 'num_private', 'basin', 'subvillage', 'region', 'region_code', 'district_code', 'lga', 'ward', 'population', 'public_meeting', 'recorded_by', 'scheme_management', 'scheme_name', 'permit', 'construction_year', 'extraction_type', 'extraction_type_group', 'extraction_type_class', 'management', 'management_group', 'payment', 'payment_type', 'water_quality', 'quality_group', 'quantity', 'quantity_group', 'source', 'source_type', 'source_class', 'waterpoint_type', 'waterpoint_type_group', 'status_group']\n"
     ]
    }
   ],
   "source": [
    "data = feature.join(label, on=(\"id\"))\n",
    "print(data.count())\n",
    "print(data.columns)"
   ]
  },
  {
   "cell_type": "markdown",
   "id": "d326c73f",
   "metadata": {},
   "source": [
    "#### Changing the Column Data Types and remove the Null Values"
   ]
  },
  {
   "cell_type": "code",
   "execution_count": 47,
   "id": "12402a5b",
   "metadata": {},
   "outputs": [
    {
     "name": "stdout",
     "output_type": "stream",
     "text": [
      "root\n",
      " |-- id: integer (nullable = true)\n",
      " |-- amount_tsh: double (nullable = true)\n",
      " |-- date_recorded: string (nullable = true)\n",
      " |-- funder: string (nullable = true)\n",
      " |-- gps_height: integer (nullable = true)\n",
      " |-- installer: string (nullable = true)\n",
      " |-- longitude: double (nullable = true)\n",
      " |-- latitude: double (nullable = true)\n",
      " |-- wpt_name: string (nullable = true)\n",
      " |-- num_private: integer (nullable = true)\n",
      " |-- basin: string (nullable = true)\n",
      " |-- subvillage: string (nullable = true)\n",
      " |-- region: string (nullable = true)\n",
      " |-- region_code: integer (nullable = true)\n",
      " |-- district_code: integer (nullable = true)\n",
      " |-- lga: string (nullable = true)\n",
      " |-- ward: string (nullable = true)\n",
      " |-- population: integer (nullable = true)\n",
      " |-- public_meeting: boolean (nullable = true)\n",
      " |-- recorded_by: string (nullable = true)\n",
      " |-- scheme_management: string (nullable = true)\n",
      " |-- scheme_name: string (nullable = true)\n",
      " |-- permit: boolean (nullable = true)\n",
      " |-- construction_year: integer (nullable = true)\n",
      " |-- extraction_type: string (nullable = true)\n",
      " |-- extraction_type_group: string (nullable = true)\n",
      " |-- extraction_type_class: string (nullable = true)\n",
      " |-- management: string (nullable = true)\n",
      " |-- management_group: string (nullable = true)\n",
      " |-- payment: string (nullable = true)\n",
      " |-- payment_type: string (nullable = true)\n",
      " |-- water_quality: string (nullable = true)\n",
      " |-- quality_group: string (nullable = true)\n",
      " |-- quantity: string (nullable = true)\n",
      " |-- quantity_group: string (nullable = true)\n",
      " |-- source: string (nullable = true)\n",
      " |-- source_type: string (nullable = true)\n",
      " |-- source_class: string (nullable = true)\n",
      " |-- waterpoint_type: string (nullable = true)\n",
      " |-- waterpoint_type_group: string (nullable = true)\n",
      " |-- status_group: string (nullable = true)\n",
      "\n",
      "None\n"
     ]
    }
   ],
   "source": [
    "print(data.printSchema())"
   ]
  },
  {
   "cell_type": "code",
   "execution_count": 48,
   "id": "11a8ac53",
   "metadata": {},
   "outputs": [
    {
     "name": "stdout",
     "output_type": "stream",
     "text": [
      "+-----+----------+-------------+-------------------+----------+------------+-----------+------------+--------------------+-----------+--------------------+---------------+---------+-----------+-------------+---------------+----------+----------+--------------+--------------------+-----------------+--------------------+------+-----------------+---------------+---------------------+---------------------+----------+----------------+--------------+------------+-------------+-------------+------------+--------------+--------------------+--------------------+------------+--------------------+---------------------+--------------+\n",
      "|   id|amount_tsh|date_recorded|             funder|gps_height|   installer|  longitude|    latitude|            wpt_name|num_private|               basin|     subvillage|   region|region_code|district_code|            lga|      ward|population|public_meeting|         recorded_by|scheme_management|         scheme_name|permit|construction_year|extraction_type|extraction_type_group|extraction_type_class|management|management_group|       payment|payment_type|water_quality|quality_group|    quantity|quantity_group|              source|         source_type|source_class|     waterpoint_type|waterpoint_type_group|  status_group|\n",
      "+-----+----------+-------------+-------------------+----------+------------+-----------+------------+--------------------+-----------+--------------------+---------------+---------+-----------+-------------+---------------+----------+----------+--------------+--------------------+-----------------+--------------------+------+-----------------+---------------+---------------------+---------------------+----------+----------------+--------------+------------+-------------+-------------+------------+--------------+--------------------+--------------------+------------+--------------------+---------------------+--------------+\n",
      "|69572|    6000.0|   2011-03-14|              Roman|      1390|       Roman|34.93809275| -9.85632177|                none|          0|          Lake Nyasa|       Mnyusi B|   Iringa|         11|            5|         Ludewa|  Mundindi|       109|          true|GeoData Consultan...|              VWC|               Roman| false|             1999|        gravity|              gravity|              gravity|       vwc|      user-group|  pay annually|    annually|         soft|         good|      enough|        enough|              spring|              spring| groundwater|  communal standpipe|   communal standpipe|    functional|\n",
      "| 8776|       0.0|   2013-03-06|            Grumeti|      1399|     GRUMETI| 34.6987661| -2.14746569|            Zahanati|          0|       Lake Victoria|        Nyamara|     Mara|         20|            2|      Serengeti|     Natta|       280|          null|GeoData Consultan...|            Other|                null|  true|             2010|        gravity|              gravity|              gravity|       wug|      user-group|     never pay|   never pay|         soft|         good|insufficient|  insufficient|rainwater harvesting|rainwater harvesting|     surface|  communal standpipe|   communal standpipe|    functional|\n",
      "|34310|      25.0|   2013-02-25|       Lottery Club|       686|World vision|37.46066446| -3.82132853|         Kwa Mahundi|          0|             Pangani|        Majengo|  Manyara|         21|            4|      Simanjiro|   Ngorika|       250|          true|GeoData Consultan...|              VWC|Nyumba ya mungu p...|  true|             2009|        gravity|              gravity|              gravity|       vwc|      user-group|pay per bucket|  per bucket|         soft|         good|      enough|        enough|                 dam|                 dam|     surface|communal standpip...|   communal standpipe|    functional|\n",
      "|67743|       0.0|   2013-01-28|             Unicef|       263|      UNICEF|38.48616088|-11.15529772|Zahanati Ya Nanyumbu|          0|Ruvuma / Southern...|     Mahakamani|   Mtwara|         90|           63|       Nanyumbu|  Nanyumbu|        58|          true|GeoData Consultan...|              VWC|                null|  true|             1986|    submersible|          submersible|          submersible|       vwc|      user-group|     never pay|   never pay|         soft|         good|         dry|           dry|         machine dbh|            borehole| groundwater|communal standpip...|   communal standpipe|non functional|\n",
      "|19728|       0.0|   2011-07-13|        Action In A|         0|     Artisan|31.13084671| -1.82535885|             Shuleni|          0|       Lake Victoria|     Kyanyamisa|   Kagera|         18|            1|        Karagwe|Nyakasimbi|         0|          true|GeoData Consultan...|             null|                null|  true|                0|        gravity|              gravity|              gravity|     other|           other|     never pay|   never pay|         soft|         good|    seasonal|      seasonal|rainwater harvesting|rainwater harvesting|     surface|  communal standpipe|   communal standpipe|    functional|\n",
      "| 9944|      20.0|   2011-03-13|Mkinga Distric Coun|         0|         DWE| 39.1727956| -4.76558728|              Tajiri|          0|             Pangani|    Moa/Mwereme|    Tanga|          4|            8|         Mkinga|       Moa|         1|          true|GeoData Consultan...|              VWC|           Zingibali|  true|             2009|    submersible|          submersible|          submersible|       vwc|      user-group|pay per bucket|  per bucket|        salty|        salty|      enough|        enough|               other|               other|     unknown|communal standpip...|   communal standpipe|    functional|\n",
      "|19816|       0.0|   2012-10-01|               Dwsp|         0|        DWSP|33.36240982| -3.76636472|          Kwa Ngomho|          0|            Internal|  Ishinabulandi|Shinyanga|         17|            3|Shinyanga Rural|    Samuye|         0|          true|GeoData Consultan...|              VWC|                null|  true|                0|         swn 80|               swn 80|             handpump|       vwc|      user-group|     never pay|   never pay|         soft|         good|      enough|        enough|         machine dbh|            borehole| groundwater|           hand pump|            hand pump|non functional|\n",
      "|54551|       0.0|   2012-10-09|              Rwssp|         0|         DWE|32.62061707| -4.22619802|        Tushirikiane|          0|     Lake Tanganyika|Nyawishi Center|Shinyanga|         17|            3|         Kahama|    Chambo|         0|          true|GeoData Consultan...|             null|                null|  true|                0|    nira/tanira|          nira/tanira|             handpump|       wug|      user-group|       unknown|     unknown|        milky|        milky|      enough|        enough|        shallow well|        shallow well| groundwater|           hand pump|            hand pump|non functional|\n",
      "|53934|       0.0|   2012-11-03|           Wateraid|         0|   Water Aid|32.71110001| -5.14671181|   Kwa Ramadhan Musa|          0|     Lake Tanganyika|     Imalauduki|   Tabora|         14|            6|   Tabora Urban|  Itetemia|         0|          true|GeoData Consultan...|              VWC|                null|  true|                0|  india mark ii|        india mark ii|             handpump|       vwc|      user-group|     never pay|   never pay|        salty|        salty|    seasonal|      seasonal|         machine dbh|            borehole| groundwater|           hand pump|            hand pump|non functional|\n",
      "|46144|       0.0|   2011-08-03|        Isingiro Ho|         0|     Artisan|30.62699053| -1.25705061|             Kwapeto|          0|       Lake Victoria|       Mkonomre|   Kagera|         18|            1|        Karagwe|    Kaisho|         0|          true|GeoData Consultan...|             null|                null|  true|                0|    nira/tanira|          nira/tanira|             handpump|       vwc|      user-group|     never pay|   never pay|         soft|         good|      enough|        enough|        shallow well|        shallow well| groundwater|           hand pump|            hand pump|    functional|\n",
      "+-----+----------+-------------+-------------------+----------+------------+-----------+------------+--------------------+-----------+--------------------+---------------+---------+-----------+-------------+---------------+----------+----------+--------------+--------------------+-----------------+--------------------+------+-----------------+---------------+---------------------+---------------------+----------+----------------+--------------+------------+-------------+-------------+------------+--------------+--------------------+--------------------+------------+--------------------+---------------------+--------------+\n",
      "only showing top 10 rows\n",
      "\n",
      "None\n"
     ]
    }
   ],
   "source": [
    "print(data.show(10))"
   ]
  },
  {
   "cell_type": "code",
   "execution_count": 50,
   "id": "d4d39255",
   "metadata": {},
   "outputs": [],
   "source": [
    "data = data.withColumn('region_code', col('region_code').cast(StringType())) .withColumn('district_code',col('district_code').cast(StringType()))"
   ]
  },
  {
   "cell_type": "code",
   "execution_count": 53,
   "id": "2fd050fc",
   "metadata": {},
   "outputs": [
    {
     "data": {
      "text/plain": [
       "59400"
      ]
     },
     "execution_count": 53,
     "metadata": {},
     "output_type": "execute_result"
    }
   ],
   "source": [
    "data =data.dropDuplicates([\"id\"])\n",
    "data.count()"
   ]
  },
  {
   "cell_type": "code",
   "execution_count": 56,
   "id": "8c69a36c",
   "metadata": {},
   "outputs": [],
   "source": [
    "str_cols = [item[0] for item in data.dtypes if item[1].startswith('string')]\n",
    "for cols in str_cols:\n",
    "    data = data.withColumn(cols, trim(data[cols]))"
   ]
  },
  {
   "cell_type": "markdown",
   "id": "deb9e9b8",
   "metadata": {},
   "source": [
    "### Remove columns with null values more than a threshold."
   ]
  },
  {
   "cell_type": "code",
   "execution_count": null,
   "id": "e59d6a32",
   "metadata": {},
   "outputs": [],
   "source": []
  }
 ],
 "metadata": {
  "kernelspec": {
   "display_name": "Python 3",
   "language": "python",
   "name": "python3"
  },
  "language_info": {
   "codemirror_mode": {
    "name": "ipython",
    "version": 3
   },
   "file_extension": ".py",
   "mimetype": "text/x-python",
   "name": "python",
   "nbconvert_exporter": "python",
   "pygments_lexer": "ipython3",
   "version": "3.6.13"
  }
 },
 "nbformat": 4,
 "nbformat_minor": 5
}
